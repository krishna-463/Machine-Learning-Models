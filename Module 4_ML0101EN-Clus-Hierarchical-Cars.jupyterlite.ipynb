{
  "metadata": {
    "kernelspec": {
      "name": "python",
      "display_name": "Pyolite",
      "language": "python"
    },
    "language_info": {
      "codemirror_mode": {
        "name": "python",
        "version": 3
      },
      "file_extension": ".py",
      "mimetype": "text/x-python",
      "name": "python",
      "nbconvert_exporter": "python",
      "pygments_lexer": "ipython3",
      "version": "3.8"
    }
  },
  "nbformat_minor": 4,
  "nbformat": 4,
  "cells": [
    {
      "cell_type": "markdown",
      "source": "<h1>Table of contents</h1>\n\n<div class=\"alert alert-block alert-info\" style=\"margin-top: 20px\">\n    <ol>\n        <li><a href=\"https://#hierarchical_agglomerative\">Hierarchical Clustering - Agglomerative</a></li>\n            <ol>\n                <li><a href=\"https://#generating_data\">Generating Random Data</a></li>\n                <li><a href=\"https://#agglomerative_clustering\">Agglomerative Clustering</a></li>\n                <li><a href=\"https://#dendrogram\">Dendrogram Associated for the Agglomerative Hierarchical Clustering</a></li>\n            </ol>            \n        <li><a href=\"https://#clustering_vehicle_dataset\">Clustering on the Vehicle Dataset</a></li>\n            <ol>\n                <li><a href=\"https://#data_cleaning\">Data Cleaning</a></li>\n                <li><a href=\"https://#clustering_using_scipy\">Clustering Using Scipy</a></li>\n                <li><a href=\"https://#clustering_using_skl\">Clustering using scikit-learn</a></li>\n            </ol>\n    </ol>\n</div>\n<br>\n<hr>\n",
      "metadata": {}
    },
    {
      "cell_type": "markdown",
      "source": "<h1 id=\"hierarchical_agglomerative\">Hierarchical Clustering - Agglomerative</h1>\n\nWe will be looking at a clustering technique, which is <b>Agglomerative Hierarchical Clustering</b>. Remember that agglomerative is the bottom up approach. <br> <br>\nIn this lab, we will be looking at Agglomerative clustering, which is more popular than Divisive clustering. <br> <br>\nWe will also be using Complete Linkage as the Linkage Criteria. <br> <b> <i> NOTE: You can also try using Average Linkage wherever Complete Linkage would be used to see the difference! </i> </b>\n",
      "metadata": {}
    },
    {
      "cell_type": "code",
      "source": "import piplite\nawait piplite.install(['pandas'])\nawait piplite.install(['matplotlib'])\nawait piplite.install(['scipy'])\n",
      "metadata": {
        "trusted": true
      },
      "execution_count": 1,
      "outputs": []
    },
    {
      "cell_type": "code",
      "source": "import numpy as np \nimport pandas as pd\nfrom scipy import ndimage \nfrom scipy.cluster import hierarchy \nfrom scipy.spatial import distance_matrix \nfrom matplotlib import pyplot as plt \nfrom sklearn import manifold, datasets \nfrom sklearn.cluster import AgglomerativeClustering \nfrom sklearn.datasets import make_blobs \n%matplotlib inline",
      "metadata": {
        "trusted": true
      },
      "execution_count": 2,
      "outputs": [
        {
          "name": "stderr",
          "text": "/lib/python3.9/site-packages/pandas/compat/__init__.py:124: UserWarning: Could not import the lzma module. Your installed Python is incomplete. Attempting to use lzma compression will result in a RuntimeError.\n  warnings.warn(msg)\n",
          "output_type": "stream"
        }
      ]
    },
    {
      "cell_type": "code",
      "source": "",
      "metadata": {},
      "execution_count": null,
      "outputs": []
    },
    {
      "cell_type": "code",
      "source": "from pyodide.http import pyfetch\n\nasync def download(url, filename):\n    response = await pyfetch(url)\n    if response.status == 200:\n        with open(filename, \"wb\") as f:\n            f.write(await response.bytes())",
      "metadata": {
        "trusted": true
      },
      "execution_count": 3,
      "outputs": []
    },
    {
      "cell_type": "markdown",
      "source": "<hr>\n<h3 id=\"generating_data\">Generating Random Data</h3>\nWe will be generating a set of data using the <b>make_blobs</b> class. <br> <br>\nInput these parameters into make_blobs:\n<ul>\n    <li> <b>n_samples</b>: The total number of points equally divided among clusters. </li>\n    <ul> <li> Choose a number from 10-1500 </li> </ul>\n    <li> <b>centers</b>: The number of centers to generate, or the fixed center locations. </li>\n    <ul> <li> Choose arrays of x,y coordinates for generating the centers. Have 1-10 centers (ex. centers=[[1,1], [2,5]]) </li> </ul>\n    <li> <b>cluster_std</b>: The standard deviation of the clusters. The larger the number, the further apart the clusters</li>\n    <ul> <li> Choose a number between 0.5-1.5 </li> </ul>\n</ul> <br>\nSave the result to <b>X1</b> and <b>y1</b>.\n",
      "metadata": {}
    },
    {
      "cell_type": "code",
      "source": "X1, y1 = make_blobs(n_samples=50, centers=[[4,4], [-2, -1], [1, 1], [10,4]], cluster_std=0.9)",
      "metadata": {
        "trusted": true
      },
      "execution_count": 4,
      "outputs": []
    },
    {
      "cell_type": "markdown",
      "source": "Plot the scatter plot of the randomly generated data.\n",
      "metadata": {}
    },
    {
      "cell_type": "code",
      "source": "plt.scatter(X1[:, 0], X1[:, 1], marker='o') ",
      "metadata": {
        "trusted": true
      },
      "execution_count": 5,
      "outputs": [
        {
          "execution_count": 5,
          "output_type": "execute_result",
          "data": {
            "text/plain": "<matplotlib.collections.PathCollection at 0x552b700>"
          },
          "metadata": {}
        },
        {
          "output_type": "display_data",
          "data": {
            "text/plain": "<Figure size 432x288 with 1 Axes>",
            "image/png": "[encoded data removed]"
          },
          "metadata": {
            "needs_background": "light"
          }
        }
      ]
    },
    {
      "cell_type": "markdown",
      "source": "<hr>\n<h3 id=\"agglomerative_clustering\">Agglomerative Clustering</h3>\n\nWe will start by clustering the random data points we just created.\n",
      "metadata": {}
    },
    {
      "cell_type": "markdown",
      "source": "The <b> Agglomerative Clustering </b> class will require two inputs:\n\n<ul>\n    <li> <b>n_clusters</b>: The number of clusters to form as well as the number of centroids to generate. </li>\n    <ul> <li> Value will be: 4 </li> </ul>\n    <li> <b>linkage</b>: Which linkage criterion to use. The linkage criterion determines which distance to use between sets of observation. The algorithm will merge the pairs of cluster that minimize this criterion. </li>\n    <ul> \n        <li> Value will be: 'complete' </li> \n        <li> <b>Note</b>: It is recommended you try everything with 'average' as well </li>\n    </ul>\n</ul> <br>\nSave the result to a variable called <b> agglom </b>.\n",
      "metadata": {}
    },
    {
      "cell_type": "code",
      "source": "agglom = AgglomerativeClustering(n_clusters = 4, linkage = 'average')",
      "metadata": {
        "trusted": true
      },
      "execution_count": 6,
      "outputs": []
    },
    {
      "cell_type": "markdown",
      "source": "Fit the model with <b> X2 </b> and <b> y2 </b> from the generated data above.\n",
      "metadata": {}
    },
    {
      "cell_type": "code",
      "source": "agglom.fit(X1,y1)",
      "metadata": {
        "scrolled": true,
        "trusted": true
      },
      "execution_count": 7,
      "outputs": [
        {
          "execution_count": 7,
          "output_type": "execute_result",
          "data": {
            "text/plain": "AgglomerativeClustering(linkage='average', n_clusters=4)"
          },
          "metadata": {}
        }
      ]
    },
    {
      "cell_type": "markdown",
      "source": "Run the following code to show the clustering! <br>\nRemember to read the code and comments to gain more understanding on how the plotting works.\n",
      "metadata": {}
    },
    {
      "cell_type": "code",
      "source": "# Create a figure of size 6 inches by 4 inches.\nplt.figure(figsize=(6,4))\n\n# These two lines of code are used to scale the data points down,\n# Or else the data points will be scattered very far apart.\n\n# Create a minimum and maximum range of X1.\nx_min, x_max = np.min(X1, axis=0), np.max(X1, axis=0)\n\n# Get the average distance for X1.\nX1 = (X1 - x_min) / (x_max - x_min)\n\n# This loop displays all of the datapoints.\nfor i in range(X1.shape[0]):\n    # Replace the data points with their respective cluster value \n    # (ex. 0) and is color coded with a colormap (plt.cm.spectral)\n    plt.text(X1[i, 0], X1[i, 1], str(y1[i]),\n             color=plt.cm.nipy_spectral(agglom.labels_[i] / 10.),\n             fontdict={'weight': 'bold', 'size': 9})\n    \n# Remove the x ticks, y ticks, x and y axis\nplt.xticks([])\nplt.yticks([])\n#plt.axis('off')\n\n\n\n# Display the plot of the original data before clustering\nplt.scatter(X1[:, 0], X1[:, 1], marker='.')\n# Display the plot\nplt.show()",
      "metadata": {
        "trusted": true
      },
      "execution_count": 8,
      "outputs": [
        {
          "output_type": "display_data",
          "data": {
            "text/plain": "<pyolite.display.Image at 0x5b857f0>",
            "image/png": "[encoded data removed]"
          },
          "metadata": {}
        },
        {
          "output_type": "display_data",
          "data": {
            "text/plain": "<Figure size 432x288 with 0 Axes>"
          },
          "metadata": {}
        }
      ]
    },
    {
      "cell_type": "markdown",
      "source": "<h3 id=\"dendrogram\">Dendrogram Associated for the Agglomerative Hierarchical Clustering</h3>\n\nRemember that a <b>distance matrix</b> contains the <b> distance from each point to every other point of a dataset </b>.\n\nUse the function <b> distance_matrix, </b> which requires <b>two inputs</b>. Use the Feature Matrix, <b> X1 </b> as both inputs and save the distance matrix to a variable called <b> dist_matrix </b> <br> <br>\nRemember that the distance values are symmetric, with a diagonal of 0's. This is one way of making sure your matrix is correct. <br> (print out dist_matrix to make sure it's correct)\n",
      "metadata": {}
    },
    {
      "cell_type": "code",
      "source": "dist_matrix = distance_matrix(X1,X1) \nprint(dist_matrix)",
      "metadata": {
        "scrolled": true,
        "trusted": true
      },
      "execution_count": 9,
      "outputs": [
        {
          "name": "stdout",
          "text": "[[0.         1.15341852 1.01464925 ... 0.98416133 0.42868764 0.76739104]\n [1.15341852 0.         0.19670598 ... 0.19908872 0.73494203 0.49474473]\n [1.01464925 0.19670598 0.         ... 0.04313244 0.58670856 0.30435029]\n ...\n [0.98416133 0.19908872 0.04313244 ... 0.         0.55762822 0.29572316]\n [0.42868764 0.73494203 0.58670856 ... 0.55762822 0.         0.35038309]\n [0.76739104 0.49474473 0.30435029 ... 0.29572316 0.35038309 0.        ]]\n",
          "output_type": "stream"
        }
      ]
    },
    {
      "cell_type": "markdown",
      "source": "Using the <b> linkage </b> class from hierarchy, pass in the parameters:\n\n<ul>\n    <li> The distance matrix </li>\n    <li> 'complete' for complete linkage </li>\n</ul> <br>\nSave the result to a variable called <b> Z </b>.\n",
      "metadata": {}
    },
    {
      "cell_type": "code",
      "source": "Z = hierarchy.linkage(dist_matrix, 'complete')",
      "metadata": {
        "trusted": true
      },
      "execution_count": 10,
      "outputs": [
        {
          "name": "stderr",
          "text": "<ipython-input-10-3814b774a052>:1: ClusterWarning: scipy.cluster: The symmetric non-negative hollow observation matrix looks suspiciously like an uncondensed distance matrix\n  Z = hierarchy.linkage(dist_matrix, 'complete')\n",
          "output_type": "stream"
        }
      ]
    },
    {
      "cell_type": "markdown",
      "source": "A Hierarchical clustering is typically visualized as a dendrogram as shown in the following cell. Each merge is represented by a horizontal line. The y-coordinate of the horizontal line is the similarity of the two clusters that were merged, where cities are viewed as singleton clusters.\nBy moving up from the bottom layer to the top node, a dendrogram allows us to reconstruct the history of merges that resulted in the depicted clustering.\n\nNext, we will save the dendrogram to a variable called <b>dendro</b>. In doing this, the dendrogram will also be displayed.\nUsing the <b> dendrogram </b> class from hierarchy, pass in the parameter:\n\n<ul> <li> Z </li> </ul>\n",
      "metadata": {}
    },
    {
      "cell_type": "code",
      "source": "dendro = hierarchy.dendrogram(Z)",
      "metadata": {
        "trusted": true
      },
      "execution_count": 11,
      "outputs": [
        {
          "output_type": "display_data",
          "data": {
            "text/plain": "<Figure size 432x288 with 1 Axes>",
            "image/png": "[encoded data removed]"
          },
          "metadata": {
            "needs_background": "light"
          }
        }
      ]
    },
    {
      "cell_type": "markdown",
      "source": "## Practice\n\nWe used **complete** linkage for our case, change it to **average** linkage to see how the dendogram changes.\n",
      "metadata": {}
    },
    {
      "cell_type": "code",
      "source": "# write your code here\nZ = hierarchy.linkage(dist_matrix, 'average')\ndendro = hierarchy.dendrogram(Z)\n",
      "metadata": {
        "trusted": true
      },
      "execution_count": 12,
      "outputs": [
        {
          "name": "stderr",
          "text": "<ipython-input-12-7bfb60ae81cf>:2: ClusterWarning: scipy.cluster: The symmetric non-negative hollow observation matrix looks suspiciously like an uncondensed distance matrix\n  Z = hierarchy.linkage(dist_matrix, 'average')\n",
          "output_type": "stream"
        },
        {
          "output_type": "display_data",
          "data": {
            "text/plain": "<Figure size 432x288 with 1 Axes>",
            "image/png": "[encoded data removed]"
          },
          "metadata": {
            "needs_background": "light"
          }
        }
      ]
    },
    {
      "cell_type": "markdown",
      "source": "<details><summary>Click here for the solution</summary>\n\n```python\nZ = hierarchy.linkage(dist_matrix, 'average')\ndendro = hierarchy.dendrogram(Z)\n\n```\n\n</details>\n",
      "metadata": {}
    },
    {
      "cell_type": "markdown",
      "source": "<hr>\n<h1 id=\"clustering_vehicle_dataset\">Clustering on Vehicle dataset</h1>\n\nImagine that an automobile manufacturer has developed prototypes for a new vehicle. Before introducing the new model into its range, the manufacturer wants to determine which existing vehicles on the market are most like the prototypes--that is, how vehicles can be grouped, which group is the most similar with the model, and therefore which models they will be competing against.\n\nOur objective here, is to use clustering methods, to find the most distinctive clusters of vehicles. It will summarize the existing vehicles and help manufacturers to make decision about the supply of new models.\n",
      "metadata": {}
    },
    {
      "cell_type": "markdown",
      "source": "### Download data\n\nTo download the data, we will use **`!wget`** to download it from IBM Object Storage.\\\n**Did you know?** When it comes to Machine Learning, you will likely be working with large datasets. As a business, where can you host your data? IBM is offering a unique opportunity for businesses, with 10 Tb of IBM Cloud Object Storage: [Sign up now for free](http://cocl.us/ML0101EN-IBM-Offer-CC)\n",
      "metadata": {}
    },
    {
      "cell_type": "code",
      "source": "path=\"https://cf-courses-data.s3.us.cloud-object-storage.appdomain.cloud/IBMDeveloperSkillsNetwork-ML0101EN-SkillsNetwork/labs/Module%204/data/cars_clus.csv\"",
      "metadata": {
        "trusted": true
      },
      "execution_count": 13,
      "outputs": []
    },
    {
      "cell_type": "code",
      "source": "await download(path, 'cars_clus.csv')\nfilename ='cars_clus.csv'",
      "metadata": {
        "trusted": true
      },
      "execution_count": 14,
      "outputs": []
    },
    {
      "cell_type": "markdown",
      "source": "## Read data\n\nLet's read dataset to see what features the manufacturer has collected about the existing models.\n",
      "metadata": {}
    },
    {
      "cell_type": "code",
      "source": "filename = 'cars_clus.csv'\n\n#Read csv\npdf = pd.read_csv(filename)\nprint (\"Shape of dataset: \", pdf.shape)\n\npdf.head(5)",
      "metadata": {
        "trusted": true
      },
      "execution_count": 15,
      "outputs": [
        {
          "name": "stdout",
          "text": "Shape of dataset:  (159, 16)\n",
          "output_type": "stream"
        },
        {
          "execution_count": 15,
          "output_type": "execute_result",
          "data": {
            "text/plain": "  manufact    model   sales  resale   type   price engine_s horsepow wheelbas  \\\n0    Acura  Integra  16.919  16.360  0.000  21.500    1.800  140.000  101.200   \n1    Acura       TL  39.384  19.875  0.000  28.400    3.200  225.000  108.100   \n2    Acura       CL  14.114  18.225  0.000  $null$    3.200  225.000  106.900   \n3    Acura       RL   8.588  29.725  0.000  42.000    3.500  210.000  114.600   \n4     Audi       A4  20.397  22.255  0.000  23.990    1.800  150.000  102.600   \n\n    width   length curb_wgt fuel_cap     mpg lnsales  partition  \n0  67.300  172.400    2.639   13.200  28.000   2.828        0.0  \n1  70.300  192.900    3.517   17.200  25.000   3.673        0.0  \n2  70.600  192.000    3.470   17.200  26.000   2.647        0.0  \n3  71.400  196.600    3.850   18.000  22.000   2.150        0.0  \n4  68.200  178.000    2.998   16.400  27.000   3.015        0.0  ",
            "text/html": "<div>\n<style scoped>\n    .dataframe tbody tr th:only-of-type {\n        vertical-align: middle;\n    }\n\n    .dataframe tbody tr th {\n        vertical-align: top;\n    }\n\n    .dataframe thead th {\n        text-align: right;\n    }\n</style>\n<table border=\"1\" class=\"dataframe\">\n  <thead>\n    <tr style=\"text-align: right;\">\n      <th></th>\n      <th>manufact</th>\n      <th>model</th>\n      <th>sales</th>\n      <th>resale</th>\n      <th>type</th>\n      <th>price</th>\n      <th>engine_s</th>\n      <th>horsepow</th>\n      <th>wheelbas</th>\n      <th>width</th>\n      <th>length</th>\n      <th>curb_wgt</th>\n      <th>fuel_cap</th>\n      <th>mpg</th>\n      <th>lnsales</th>\n      <th>partition</th>\n    </tr>\n  </thead>\n  <tbody>\n    <tr>\n      <th>0</th>\n      <td>Acura</td>\n      <td>Integra</td>\n      <td>16.919</td>\n      <td>16.360</td>\n      <td>0.000</td>\n      <td>21.500</td>\n      <td>1.800</td>\n      <td>140.000</td>\n      <td>101.200</td>\n      <td>67.300</td>\n      <td>172.400</td>\n      <td>2.639</td>\n      <td>13.200</td>\n      <td>28.000</td>\n      <td>2.828</td>\n      <td>0.0</td>\n    </tr>\n    <tr>\n      <th>1</th>\n      <td>Acura</td>\n      <td>TL</td>\n      <td>39.384</td>\n      <td>19.875</td>\n      <td>0.000</td>\n      <td>28.400</td>\n      <td>3.200</td>\n      <td>225.000</td>\n      <td>108.100</td>\n      <td>70.300</td>\n      <td>192.900</td>\n      <td>3.517</td>\n      <td>17.200</td>\n      <td>25.000</td>\n      <td>3.673</td>\n      <td>0.0</td>\n    </tr>\n    <tr>\n      <th>2</th>\n      <td>Acura</td>\n      <td>CL</td>\n      <td>14.114</td>\n      <td>18.225</td>\n      <td>0.000</td>\n      <td>$null$</td>\n      <td>3.200</td>\n      <td>225.000</td>\n      <td>106.900</td>\n      <td>70.600</td>\n      <td>192.000</td>\n      <td>3.470</td>\n      <td>17.200</td>\n      <td>26.000</td>\n      <td>2.647</td>\n      <td>0.0</td>\n    </tr>\n    <tr>\n      <th>3</th>\n      <td>Acura</td>\n      <td>RL</td>\n      <td>8.588</td>\n      <td>29.725</td>\n      <td>0.000</td>\n      <td>42.000</td>\n      <td>3.500</td>\n      <td>210.000</td>\n      <td>114.600</td>\n      <td>71.400</td>\n      <td>196.600</td>\n      <td>3.850</td>\n      <td>18.000</td>\n      <td>22.000</td>\n      <td>2.150</td>\n      <td>0.0</td>\n    </tr>\n    <tr>\n      <th>4</th>\n      <td>Audi</td>\n      <td>A4</td>\n      <td>20.397</td>\n      <td>22.255</td>\n      <td>0.000</td>\n      <td>23.990</td>\n      <td>1.800</td>\n      <td>150.000</td>\n      <td>102.600</td>\n      <td>68.200</td>\n      <td>178.000</td>\n      <td>2.998</td>\n      <td>16.400</td>\n      <td>27.000</td>\n      <td>3.015</td>\n      <td>0.0</td>\n    </tr>\n  </tbody>\n</table>\n</div>"
          },
          "metadata": {}
        }
      ]
    },
    {
      "cell_type": "markdown",
      "source": "The feature sets include  price in thousands (price), engine size (engine_s), horsepower (horsepow), wheelbase (wheelbas), width (width), length (length), curb weight (curb_wgt), fuel capacity (fuel_cap) and fuel efficiency (mpg).\n",
      "metadata": {}
    },
    {
      "cell_type": "markdown",
      "source": "<h2 id=\"data_cleaning\">Data Cleaning</h2>\n\nLet's clean the dataset by dropping the rows that have null value:\n",
      "metadata": {}
    },
    {
      "cell_type": "code",
      "source": "print (\"Shape of dataset before cleaning: \", pdf.size)\npdf[[ 'sales', 'resale', 'type', 'price', 'engine_s',\n       'horsepow', 'wheelbas', 'width', 'length', 'curb_wgt', 'fuel_cap',\n       'mpg', 'lnsales']] = pdf[['sales', 'resale', 'type', 'price', 'engine_s',\n       'horsepow', 'wheelbas', 'width', 'length', 'curb_wgt', 'fuel_cap',\n       'mpg', 'lnsales']].apply(pd.to_numeric, errors='coerce')\npdf = pdf.dropna()\npdf = pdf.reset_index(drop=True)\nprint (\"Shape of dataset after cleaning: \", pdf.size)\npdf.head(5)",
      "metadata": {
        "trusted": true
      },
      "execution_count": 16,
      "outputs": [
        {
          "name": "stdout",
          "text": "Shape of dataset before cleaning:  2544\nShape of dataset after cleaning:  1872\n",
          "output_type": "stream"
        },
        {
          "execution_count": 16,
          "output_type": "execute_result",
          "data": {
            "text/plain": "  manufact    model   sales  resale  type  price  engine_s  horsepow  \\\n0    Acura  Integra  16.919  16.360   0.0  21.50       1.8     140.0   \n1    Acura       TL  39.384  19.875   0.0  28.40       3.2     225.0   \n2    Acura       RL   8.588  29.725   0.0  42.00       3.5     210.0   \n3     Audi       A4  20.397  22.255   0.0  23.99       1.8     150.0   \n4     Audi       A6  18.780  23.555   0.0  33.95       2.8     200.0   \n\n   wheelbas  width  length  curb_wgt  fuel_cap   mpg  lnsales  partition  \n0     101.2   67.3   172.4     2.639      13.2  28.0    2.828        0.0  \n1     108.1   70.3   192.9     3.517      17.2  25.0    3.673        0.0  \n2     114.6   71.4   196.6     3.850      18.0  22.0    2.150        0.0  \n3     102.6   68.2   178.0     2.998      16.4  27.0    3.015        0.0  \n4     108.7   76.1   192.0     3.561      18.5  22.0    2.933        0.0  ",
            "text/html": "<div>\n<style scoped>\n    .dataframe tbody tr th:only-of-type {\n        vertical-align: middle;\n    }\n\n    .dataframe tbody tr th {\n        vertical-align: top;\n    }\n\n    .dataframe thead th {\n        text-align: right;\n    }\n</style>\n<table border=\"1\" class=\"dataframe\">\n  <thead>\n    <tr style=\"text-align: right;\">\n      <th></th>\n      <th>manufact</th>\n      <th>model</th>\n      <th>sales</th>\n      <th>resale</th>\n      <th>type</th>\n      <th>price</th>\n      <th>engine_s</th>\n      <th>horsepow</th>\n      <th>wheelbas</th>\n      <th>width</th>\n      <th>length</th>\n      <th>curb_wgt</th>\n      <th>fuel_cap</th>\n      <th>mpg</th>\n      <th>lnsales</th>\n      <th>partition</th>\n    </tr>\n  </thead>\n  <tbody>\n    <tr>\n      <th>0</th>\n      <td>Acura</td>\n      <td>Integra</td>\n      <td>16.919</td>\n      <td>16.360</td>\n      <td>0.0</td>\n      <td>21.50</td>\n      <td>1.8</td>\n      <td>140.0</td>\n      <td>101.2</td>\n      <td>67.3</td>\n      <td>172.4</td>\n      <td>2.639</td>\n      <td>13.2</td>\n      <td>28.0</td>\n      <td>2.828</td>\n      <td>0.0</td>\n    </tr>\n    <tr>\n      <th>1</th>\n      <td>Acura</td>\n      <td>TL</td>\n      <td>39.384</td>\n      <td>19.875</td>\n      <td>0.0</td>\n      <td>28.40</td>\n      <td>3.2</td>\n      <td>225.0</td>\n      <td>108.1</td>\n      <td>70.3</td>\n      <td>192.9</td>\n      <td>3.517</td>\n      <td>17.2</td>\n      <td>25.0</td>\n      <td>3.673</td>\n      <td>0.0</td>\n    </tr>\n    <tr>\n      <th>2</th>\n      <td>Acura</td>\n      <td>RL</td>\n      <td>8.588</td>\n      <td>29.725</td>\n      <td>0.0</td>\n      <td>42.00</td>\n      <td>3.5</td>\n      <td>210.0</td>\n      <td>114.6</td>\n      <td>71.4</td>\n      <td>196.6</td>\n      <td>3.850</td>\n      <td>18.0</td>\n      <td>22.0</td>\n      <td>2.150</td>\n      <td>0.0</td>\n    </tr>\n    <tr>\n      <th>3</th>\n      <td>Audi</td>\n      <td>A4</td>\n      <td>20.397</td>\n      <td>22.255</td>\n      <td>0.0</td>\n      <td>23.99</td>\n      <td>1.8</td>\n      <td>150.0</td>\n      <td>102.6</td>\n      <td>68.2</td>\n      <td>178.0</td>\n      <td>2.998</td>\n      <td>16.4</td>\n      <td>27.0</td>\n      <td>3.015</td>\n      <td>0.0</td>\n    </tr>\n    <tr>\n      <th>4</th>\n      <td>Audi</td>\n      <td>A6</td>\n      <td>18.780</td>\n      <td>23.555</td>\n      <td>0.0</td>\n      <td>33.95</td>\n      <td>2.8</td>\n      <td>200.0</td>\n      <td>108.7</td>\n      <td>76.1</td>\n      <td>192.0</td>\n      <td>3.561</td>\n      <td>18.5</td>\n      <td>22.0</td>\n      <td>2.933</td>\n      <td>0.0</td>\n    </tr>\n  </tbody>\n</table>\n</div>"
          },
          "metadata": {}
        }
      ]
    },
    {
      "cell_type": "markdown",
      "source": "### Feature selection\n\nLet's select our feature set:\n",
      "metadata": {}
    },
    {
      "cell_type": "code",
      "source": "featureset = pdf[['engine_s',  'horsepow', 'wheelbas', 'width', 'length', 'curb_wgt', 'fuel_cap', 'mpg']]",
      "metadata": {
        "trusted": true
      },
      "execution_count": 17,
      "outputs": []
    },
    {
      "cell_type": "markdown",
      "source": "### Normalization\n\nNow we can normalize the feature set. **MinMaxScaler** transforms features by scaling each feature to a given range. It is by default (0, 1). That is, this estimator scales and translates each feature individually such that it is between zero and one.\n",
      "metadata": {}
    },
    {
      "cell_type": "code",
      "source": "from sklearn.preprocessing import MinMaxScaler\nx = featureset.values #returns a numpy array\nmin_max_scaler = MinMaxScaler()\nfeature_mtx = min_max_scaler.fit_transform(x)\nfeature_mtx [0:5]",
      "metadata": {
        "trusted": true
      },
      "execution_count": 18,
      "outputs": [
        {
          "execution_count": 18,
          "output_type": "execute_result",
          "data": {
            "text/plain": "array([[0.11428571, 0.21518987, 0.18655098, 0.28143713, 0.30625832,\n        0.2310559 , 0.13364055, 0.43333333],\n       [0.31428571, 0.43037975, 0.3362256 , 0.46107784, 0.5792277 ,\n        0.50372671, 0.31797235, 0.33333333],\n       [0.35714286, 0.39240506, 0.47722343, 0.52694611, 0.62849534,\n        0.60714286, 0.35483871, 0.23333333],\n       [0.11428571, 0.24050633, 0.21691974, 0.33532934, 0.38082557,\n        0.34254658, 0.28110599, 0.4       ],\n       [0.25714286, 0.36708861, 0.34924078, 0.80838323, 0.56724368,\n        0.5173913 , 0.37788018, 0.23333333]])"
          },
          "metadata": {}
        }
      ]
    },
    {
      "cell_type": "markdown",
      "source": "<h2 id=\"clustering_using_scipy\">Clustering using Scipy</h2>\n\nIn this part we use Scipy package to cluster the dataset.\n\nFirst, we calculate the distance matrix.\n",
      "metadata": {}
    },
    {
      "cell_type": "code",
      "source": "import scipy\nleng = feature_mtx.shape[0]\nD = scipy.zeros([leng,leng])\nfor i in range(leng):\n    for j in range(leng):\n        D[i,j] = scipy.spatial.distance.euclidean(feature_mtx[i], feature_mtx[j])\nD",
      "metadata": {
        "trusted": true
      },
      "execution_count": 19,
      "outputs": [
        {
          "name": "stderr",
          "text": "<ipython-input-19-2630f2af58dc>:3: DeprecationWarning: scipy.zeros is deprecated and will be removed in SciPy 2.0.0, use numpy.zeros instead\n  D = scipy.zeros([leng,leng])\n",
          "output_type": "stream"
        },
        {
          "execution_count": 19,
          "output_type": "execute_result",
          "data": {
            "text/plain": "array([[0.        , 0.57777143, 0.75455727, ..., 0.28530295, 0.24917241,\n        0.18879995],\n       [0.57777143, 0.        , 0.22798938, ..., 0.36087756, 0.66346677,\n        0.62201282],\n       [0.75455727, 0.22798938, 0.        , ..., 0.51727787, 0.81786095,\n        0.77930119],\n       ...,\n       [0.28530295, 0.36087756, 0.51727787, ..., 0.        , 0.41797928,\n        0.35720492],\n       [0.24917241, 0.66346677, 0.81786095, ..., 0.41797928, 0.        ,\n        0.15212198],\n       [0.18879995, 0.62201282, 0.77930119, ..., 0.35720492, 0.15212198,\n        0.        ]])"
          },
          "metadata": {}
        }
      ]
    },
    {
      "cell_type": "markdown",
      "source": "In agglomerative clustering, at each iteration, the algorithm must update the distance matrix to reflect the distance of the newly formed cluster with the remaining clusters in the forest.\nThe following methods are supported in Scipy for calculating the distance between the newly formed cluster and each:\n\\- single\n\\- complete\n\\- average\n\\- weighted\n\\- centroid\n\nWe use **complete** for our case, but feel free to change it to see how the results change.\n",
      "metadata": {}
    },
    {
      "cell_type": "code",
      "source": "import pylab\nimport scipy.cluster.hierarchy\nZ = hierarchy.linkage(D, 'complete')",
      "metadata": {
        "trusted": true
      },
      "execution_count": 20,
      "outputs": [
        {
          "name": "stderr",
          "text": "<ipython-input-20-8655000d21de>:3: ClusterWarning: scipy.cluster: The symmetric non-negative hollow observation matrix looks suspiciously like an uncondensed distance matrix\n  Z = hierarchy.linkage(D, 'complete')\n",
          "output_type": "stream"
        }
      ]
    },
    {
      "cell_type": "markdown",
      "source": "Essentially, Hierarchical clustering does not require a pre-specified number of clusters. However, in some applications we want a partition of disjoint clusters just as in flat clustering.\nSo you can use a cutting line:\n",
      "metadata": {}
    },
    {
      "cell_type": "code",
      "source": "from scipy.cluster.hierarchy import fcluster\nmax_d = 3\nclusters = fcluster(Z, max_d, criterion='distance')\nclusters",
      "metadata": {
        "trusted": true
      },
      "execution_count": 21,
      "outputs": [
        {
          "execution_count": 21,
          "output_type": "execute_result",
          "data": {
            "text/plain": "array([ 1,  5,  5,  6,  5,  4,  6,  5,  5,  5,  5,  5,  4,  4,  5,  1,  6,\n        5,  5,  5,  4,  2, 11,  6,  6,  5,  6,  5,  1,  6,  6, 10,  9,  8,\n        9,  3,  5,  1,  7,  6,  5,  3,  5,  3,  8,  7,  9,  2,  6,  6,  5,\n        4,  2,  1,  6,  5,  2,  7,  5,  5,  5,  4,  4,  3,  2,  6,  6,  5,\n        7,  4,  7,  6,  6,  5,  3,  5,  5,  6,  5,  4,  4,  1,  6,  5,  5,\n        5,  6,  4,  5,  4,  1,  6,  5,  6,  6,  5,  5,  5,  7,  7,  7,  2,\n        2,  1,  2,  6,  5,  1,  1,  1,  7,  8,  1,  1,  6,  1,  1],\n      dtype=int32)"
          },
          "metadata": {}
        }
      ]
    },
    {
      "cell_type": "markdown",
      "source": "Also, you can determine the number of clusters directly:\n",
      "metadata": {}
    },
    {
      "cell_type": "code",
      "source": "from scipy.cluster.hierarchy import fcluster\nk = 5\nclusters = fcluster(Z, k, criterion='maxclust')\nclusters\n",
      "metadata": {
        "trusted": true
      },
      "execution_count": 22,
      "outputs": [
        {
          "execution_count": 22,
          "output_type": "execute_result",
          "data": {
            "text/plain": "array([1, 3, 3, 3, 3, 2, 3, 3, 3, 3, 3, 3, 2, 2, 3, 1, 3, 3, 3, 3, 2, 1,\n       5, 3, 3, 3, 3, 3, 1, 3, 3, 4, 4, 4, 4, 2, 3, 1, 3, 3, 3, 2, 3, 2,\n       4, 3, 4, 1, 3, 3, 3, 2, 1, 1, 3, 3, 1, 3, 3, 3, 3, 2, 2, 2, 1, 3,\n       3, 3, 3, 2, 3, 3, 3, 3, 2, 3, 3, 3, 3, 2, 2, 1, 3, 3, 3, 3, 3, 2,\n       3, 2, 1, 3, 3, 3, 3, 3, 3, 3, 3, 3, 3, 1, 1, 1, 1, 3, 3, 1, 1, 1,\n       3, 4, 1, 1, 3, 1, 1], dtype=int32)"
          },
          "metadata": {}
        }
      ]
    },
    {
      "cell_type": "markdown",
      "source": "Now, plot the dendrogram:\n",
      "metadata": {}
    },
    {
      "cell_type": "code",
      "source": "fig = pylab.figure(figsize=(18,50))\ndef llf(id):\n    return '[%s %s %s]' % (pdf['manufact'][id], pdf['model'][id], int(float(pdf['type'][id])) )\n    \ndendro = hierarchy.dendrogram(Z,  leaf_label_func=llf, leaf_rotation=0, leaf_font_size =12, orientation = 'right')",
      "metadata": {
        "trusted": true
      },
      "execution_count": null,
      "outputs": []
    },
    {
      "cell_type": "markdown",
      "source": "<h2 id=\"clustering_using_skl\">Clustering using scikit-learn</h2>\n\nLet's redo it again, but this time using the scikit-learn package:\n",
      "metadata": {}
    },
    {
      "cell_type": "code",
      "source": "from sklearn.metrics.pairwise import euclidean_distances\ndist_matrix = euclidean_distances(feature_mtx,feature_mtx) \nprint(dist_matrix)",
      "metadata": {
        "trusted": true
      },
      "execution_count": null,
      "outputs": []
    },
    {
      "cell_type": "code",
      "source": "Z_using_dist_matrix = hierarchy.linkage(dist_matrix, 'complete')",
      "metadata": {
        "trusted": true
      },
      "execution_count": null,
      "outputs": []
    },
    {
      "cell_type": "code",
      "source": "fig = pylab.figure(figsize=(18,50))\ndef llf(id):\n    return '[%s %s %s]' % (pdf['manufact'][id], pdf['model'][id], int(float(pdf['type'][id])) )\n    \ndendro = hierarchy.dendrogram(Z_using_dist_matrix,  leaf_label_func=llf, leaf_rotation=0, leaf_font_size =12, orientation = 'right')",
      "metadata": {
        "trusted": true
      },
      "execution_count": null,
      "outputs": []
    },
    {
      "cell_type": "markdown",
      "source": "Now, we can use the 'AgglomerativeClustering' function from scikit-learn library to cluster the dataset. The AgglomerativeClustering performs a hierarchical clustering using a bottom up approach. The linkage criteria determines the metric used for the merge strategy:\n\n*   Ward minimizes the sum of squared differences within all clusters. It is a variance-minimizing approach and in this sense is similar to the k-means objective function but tackled with an agglomerative hierarchical approach.\n*   Maximum or complete linkage minimizes the maximum distance between observations of pairs of clusters.\n*   Average linkage minimizes the average of the distances between all observations of pairs of clusters.\n",
      "metadata": {}
    },
    {
      "cell_type": "code",
      "source": "agglom = AgglomerativeClustering(n_clusters = 6, linkage = 'complete')\nagglom.fit(dist_matrix)\n\nagglom.labels_",
      "metadata": {
        "trusted": true
      },
      "execution_count": null,
      "outputs": []
    },
    {
      "cell_type": "markdown",
      "source": "We can add a new field to our dataframe to show the cluster of each row:\n",
      "metadata": {}
    },
    {
      "cell_type": "code",
      "source": "pdf['cluster_'] = agglom.labels_\npdf.head()",
      "metadata": {
        "trusted": true
      },
      "execution_count": null,
      "outputs": []
    },
    {
      "cell_type": "code",
      "source": "import matplotlib.cm as cm\nn_clusters = max(agglom.labels_)+1\ncolors = cm.rainbow(np.linspace(0, 1, n_clusters))\ncluster_labels = list(range(0, n_clusters))\n\n# Create a figure of size 6 inches by 4 inches.\nplt.figure(figsize=(16,14))\n\nfor color, label in zip(colors, cluster_labels):\n    subset = pdf[pdf.cluster_ == label]\n    for i in subset.index:\n            plt.text(subset.horsepow[i], subset.mpg[i],str(subset['model'][i]), rotation=25) \n    plt.scatter(subset.horsepow, subset.mpg, s= subset.price*10, c=color, label='cluster'+str(label),alpha=0.5)\n#    plt.scatter(subset.horsepow, subset.mpg)\nplt.legend()\nplt.title('Clusters')\nplt.xlabel('horsepow')\nplt.ylabel('mpg')",
      "metadata": {
        "trusted": true
      },
      "execution_count": null,
      "outputs": []
    },
    {
      "cell_type": "markdown",
      "source": "As you can see, we are seeing the distribution of each cluster using the scatter plot, but it is not very clear where is the centroid of each cluster. Moreover, there are 2 types of vehicles in our dataset, \"truck\" (value of 1 in the type column) and \"car\" (value of 0 in the type column). So, we use them to distinguish the classes, and summarize the cluster. First we count the number of cases in each group:\n",
      "metadata": {}
    },
    {
      "cell_type": "code",
      "source": "pdf.groupby(['cluster_','type'])['cluster_'].count()",
      "metadata": {
        "trusted": true
      },
      "execution_count": null,
      "outputs": []
    },
    {
      "cell_type": "markdown",
      "source": "Now we can look at the characteristics of each cluster:\n",
      "metadata": {}
    },
    {
      "cell_type": "code",
      "source": "agg_cars = pdf.groupby(['cluster_','type'])['horsepow','engine_s','mpg','price'].mean()\nagg_cars",
      "metadata": {
        "trusted": true
      },
      "execution_count": null,
      "outputs": []
    },
    {
      "cell_type": "markdown",
      "source": "It is obvious that we have 3 main clusters with the majority of vehicles in those.\n\n**Cars**:\n\n*   Cluster 1: with almost high mpg, and low in horsepower.\n\n*   Cluster 2: with good mpg and horsepower, but higher price than average.\n\n*   Cluster 3: with low mpg, high horsepower, highest price.\n\n**Trucks**:\n\n*   Cluster 1: with almost highest mpg among trucks, and lowest in horsepower and price.\n*   Cluster 2: with almost low mpg and medium horsepower, but higher price than average.\n*   Cluster 3: with good mpg and horsepower, low price.\n\nPlease notice that we did not use **type**  and **price** of cars in the clustering process, but Hierarchical clustering could forge the clusters and discriminate them with quite a high accuracy.\n",
      "metadata": {}
    },
    {
      "cell_type": "code",
      "source": "plt.figure(figsize=(16,10))\nfor color, label in zip(colors, cluster_labels):\n    subset = agg_cars.loc[(label,),]\n    for i in subset.index:\n        plt.text(subset.loc[i][0]+5, subset.loc[i][2], 'type='+str(int(i)) + ', price='+str(int(subset.loc[i][3]))+'k')\n    plt.scatter(subset.horsepow, subset.mpg, s=subset.price*20, c=color, label='cluster'+str(label))\nplt.legend()\nplt.title('Clusters')\nplt.xlabel('horsepow')\nplt.ylabel('mpg')\n",
      "metadata": {
        "trusted": true
      },
      "execution_count": null,
      "outputs": []
    },
    {
      "cell_type": "markdown",
      "source": "<h2>Want to learn more?</h2>\n\nIBM SPSS Modeler is a comprehensive analytics platform that has many machine learning algorithms. It has been designed to bring predictive intelligence to decisions made by individuals, by groups, by systems – by your enterprise as a whole. A free trial is available through this course, available here: <a href=\"https://www.ibm.com/analytics/spss-statistics-software?utm_medium=Exinfluencer&utm_source=Exinfluencer&utm_content=000026UJ&utm_term=10006555&utm_id=NA-SkillsNetwork-Channel-SkillsNetworkCoursesIBMDeveloperSkillsNetworkML0101ENSkillsNetwork20718538-2022-01-01\">SPSS Modeler</a>\n\nAlso, you can use Watson Studio to run these notebooks faster with bigger datasets. Watson Studio is IBM's leading cloud solution for data scientists, built by data scientists. With Jupyter notebooks, RStudio, Apache Spark and popular libraries pre-packaged in the cloud, Watson Studio enables data scientists to collaborate on their projects without having to install anything. Join the fast-growing community of Watson Studio users today with a free account at <a href=\"https://www.ibm.com/cloud/watson-studio?utm_medium=Exinfluencer&utm_source=Exinfluencer&utm_content=000026UJ&utm_term=10006555&utm_id=NA-SkillsNetwork-Channel-SkillsNetworkCoursesIBMDeveloperSkillsNetworkML0101ENSkillsNetwork20718538-2022-01-01\">Watson Studio</a>\n",
      "metadata": {}
    },
    {
      "cell_type": "markdown",
      "source": "### Thank you for completing this lab!\n\n## Author\n\nSaeed Aghabozorgi\n\n### Other Contributors\n\n<a href=\"https://www.linkedin.com/in/joseph-s-50398b136/?utm_medium=Exinfluencer&utm_source=Exinfluencer&utm_content=000026UJ&utm_term=10006555&utm_id=NA-SkillsNetwork-Channel-SkillsNetworkCoursesIBMDeveloperSkillsNetworkML0101ENSkillsNetwork20718538-2022-01-01\" target=\"_blank\">Joseph Santarcangelo</a>\n\n## Change Log\n\n| Date (YYYY-MM-DD) | Version | Changed By | Change Description                                  |\n| ----------------- | ------- | ---------- | --------------------------------------------------- |\n| 2021-01-11        | 2.2     | Lakshmi    | Changed distance matrix in agglomerative clustering |\n| 2020-11-03        | 2.1     | Lakshmi    | Updated URL                                         |\n| 2020-08-27        | 2.0     | Lavanya    | Moved lab to course repo in GitLab                  |\n\n## <h3 align=\"center\"> © IBM Corporation 2020. All rights reserved. <h3/>\n",
      "metadata": {}
    }
  ]
}